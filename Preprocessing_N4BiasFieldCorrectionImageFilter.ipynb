{
 "cells": [
  {
   "cell_type": "markdown",
   "metadata": {},
   "source": [
    "## Run N4BiasFieldCorrectionImageFilter\n",
    "on Train and validation of Brats data\n"
   ]
  },
  {
   "cell_type": "markdown",
   "metadata": {},
   "source": [
    "## Data files\n",
    "* /naomi/DATA/MICCAI_BraTS_2019_Data_Training/HGG/BraTS19_TCIA04_192_1\n",
    "```\n",
    "BraTS19_TCIA04_192_1_flair.nii.gz\n",
    "BraTS19_TCIA04_192_1_t1.nii.gz    \n",
    "BraTS19_TCIA04_192_1_t2.nii.gz\n",
    "BraTS19_TCIA04_192_1_seg.nii.gz    \n",
    "BraTS19_TCIA04_192_1_t1ce.nii.gz\n",
    "```\n",
    "After running the filter the following files will be added:\n",
    "```\n",
    "BraTS19_TCIA09_141_1_t1_nb4.nii.gz\n",
    "BraTS19_TCIA09_141_1_t1ce.nii.gz\n",
    "```"
   ]
  },
  {
   "cell_type": "code",
   "execution_count": 2,
   "metadata": {},
   "outputs": [],
   "source": [
    "import paths\n",
    "\n",
    "path_names = paths.set_names()\n",
    "\n",
    "DATA_HGG = path_names[2]\n",
    "DATA_LGG = path_names[3]\n",
    "VALIDATION_DATA = path_names[0]\n",
    "\n",
    "FLAIR = 'flair'\n",
    "T1 = 't1'\n",
    "T2 = 't2'\n",
    "T1CE = 't1ce'\n",
    "\n",
    "reduced_Data_HGG = path_names[4]\n",
    "reduced_Data_LGG = path_names[5]\n",
    "reduced_Val = path_names[1]\n",
    "reduced_VALIDATION_NUMPY_DIR = path_names[7]\n",
    "\n"
   ]
  },
  {
   "cell_type": "code",
   "execution_count": 3,
   "metadata": {},
   "outputs": [],
   "source": [
    "import os, sys, glob\n",
    "import numpy as np\n",
    "import SimpleITK as sitk\n",
    "import sys\n",
    "import os\n",
    "import pandas as pd\n",
    "import re"
   ]
  },
  {
   "cell_type": "code",
   "execution_count": 4,
   "metadata": {},
   "outputs": [],
   "source": [
    "import pandas\n",
    "import numpy"
   ]
  },
  {
   "cell_type": "markdown",
   "metadata": {},
   "source": [
    "## Data Preprocessing\n",
    "### Run  N4BiasFieldCorrectionImageFilter"
   ]
  },
  {
   "cell_type": "code",
   "execution_count": 4,
   "metadata": {
    "pycharm": {
     "name": "#%%\n"
    }
   },
   "outputs": [],
   "source": []
  },
  {
   "cell_type": "code",
   "execution_count": 5,
   "metadata": {},
   "outputs": [],
   "source": [
    "# reduce bias \n",
    "def n4cor(in_img, out_img):\n",
    "    inputImage = sitk.ReadImage(in_img )\n",
    "    maskImage = sitk.OtsuThreshold( inputImage, 0, 1, 200 )\n",
    "\n",
    "    inputImage = sitk.Cast( inputImage, sitk.sitkFloat32 )\n",
    "    corrector = sitk.N4BiasFieldCorrectionImageFilter();\n",
    "    numberFilltingLevels = 4\n",
    "\n",
    "    output = corrector.Execute( inputImage, maskImage ) \n",
    "    sitk.WriteImage( output, out_img )"
   ]
  },
  {
   "cell_type": "markdown",
   "metadata": {},
   "source": [
    "#### find all relevant image directories"
   ]
  },
  {
   "cell_type": "code",
   "execution_count": 6,
   "metadata": {
    "pycharm": {
     "name": "#%%\n"
    }
   },
   "outputs": [],
   "source": [
    "# Deletes all files in a folder\n",
    "# https://stackoverflow.com/questions/185936/how-to-delete-the-contents-of-a-folder\n",
    "# import shutil, random, os\n",
    "# os.mkdir(Shrinked_Data_LGG)\n",
    "#\n",
    "# for filename in os.listdir(Shrinked_Data_LGG):\n",
    "#     file_path = os.path.join(Shrinked_Data_LGG, filename)\n",
    "#     try:\n",
    "#         if os.path.isfile(file_path) or os.path.islink(file_path):\n",
    "#             os.unlink(file_path)\n",
    "#         elif os.path.isdir(file_path):\n",
    "#             shutil.rmtree(file_path)\n",
    "#     except Exception as e:\n",
    "#         print('Failed to delete %s. Reason: %s' % (file_path, e))\n"
   ]
  },
  {
   "cell_type": "code",
   "execution_count": 7,
   "metadata": {},
   "outputs": [
    {
     "ename": "FileExistsError",
     "evalue": "[Errno 17] File exists: '/Users/nathansimms/Documents/CMPT340/BratsData/2019Simple/MICCAI_BraTS_2019_Data_Training/reducedLGG/BraTS19_TCIA10_307_1'",
     "output_type": "error",
     "traceback": [
      "\u001B[0;31m---------------------------------------------------------------------------\u001B[0m",
      "\u001B[0;31mFileExistsError\u001B[0m                           Traceback (most recent call last)",
      "\u001B[0;32m<ipython-input-7-7ca913bfa88b>\u001B[0m in \u001B[0;36m<module>\u001B[0;34m\u001B[0m\n\u001B[1;32m     38\u001B[0m     \u001B[0msrcpath\u001B[0m \u001B[0;34m=\u001B[0m \u001B[0mos\u001B[0m\u001B[0;34m.\u001B[0m\u001B[0mpath\u001B[0m\u001B[0;34m.\u001B[0m\u001B[0mjoin\u001B[0m\u001B[0;34m(\u001B[0m\u001B[0mdirLGG\u001B[0m\u001B[0;34m,\u001B[0m \u001B[0mfname\u001B[0m\u001B[0;34m)\u001B[0m\u001B[0;34m\u001B[0m\u001B[0;34m\u001B[0m\u001B[0m\n\u001B[1;32m     39\u001B[0m     \u001B[0mpath\u001B[0m \u001B[0;34m=\u001B[0m \u001B[0mos\u001B[0m\u001B[0;34m.\u001B[0m\u001B[0mpath\u001B[0m\u001B[0;34m.\u001B[0m\u001B[0mjoin\u001B[0m\u001B[0;34m(\u001B[0m\u001B[0mreduced_Data_LGG\u001B[0m\u001B[0;34m,\u001B[0m \u001B[0mfname\u001B[0m\u001B[0;34m)\u001B[0m\u001B[0;34m\u001B[0m\u001B[0;34m\u001B[0m\u001B[0m\n\u001B[0;32m---> 40\u001B[0;31m     \u001B[0mos\u001B[0m\u001B[0;34m.\u001B[0m\u001B[0mmkdir\u001B[0m\u001B[0;34m(\u001B[0m\u001B[0mpath\u001B[0m\u001B[0;34m)\u001B[0m\u001B[0;34m\u001B[0m\u001B[0;34m\u001B[0m\u001B[0m\n\u001B[0m\u001B[1;32m     41\u001B[0m     \u001B[0mcopy_tree\u001B[0m\u001B[0;34m(\u001B[0m\u001B[0msrcpath\u001B[0m\u001B[0;34m,\u001B[0m \u001B[0mpath\u001B[0m\u001B[0;34m)\u001B[0m\u001B[0;34m\u001B[0m\u001B[0;34m\u001B[0m\u001B[0m\n\u001B[1;32m     42\u001B[0m \u001B[0;34m\u001B[0m\u001B[0m\n",
      "\u001B[0;31mFileExistsError\u001B[0m: [Errno 17] File exists: '/Users/nathansimms/Documents/CMPT340/BratsData/2019Simple/MICCAI_BraTS_2019_Data_Training/reducedLGG/BraTS19_TCIA10_307_1'"
     ]
    }
   ],
   "source": [
    "# Our laptops lack computing power to make full use of the data set.\n",
    "# we reduce the data set to 1/10 of its original size so that we can play with and learn\n",
    "# from the different data sets we realize that this effects accuracy of our findings, \n",
    "# but otherwise many of the different functions takes hours to run and even with reduced\n",
    "# data it still takes hours to run some functions do to imcompatabe cuda GPUs and slow CPUs\n",
    "\n",
    "# reduce LGG data\n",
    "import random\n",
    "input_path = DATA_HGG\n",
    "hgg_paths = []\n",
    "for dirpath, dirnames, files in os.walk(input_path):\n",
    "    for dir in dirnames:\n",
    "        if ('BraTS19' in dir):\n",
    "            hgg_paths.append(dir)\n",
    "\n",
    "# random_hgg = np.random.choice(hgg_paths, int(len(hgg_paths)*.1))\n",
    "# hgg_paths = random_hgg\n",
    "\n",
    "input_path_LGG = DATA_LGG\n",
    "lgg_paths = []\n",
    "for dirpath, dirnames, files in os.walk(input_path):\n",
    "    for dir in dirnames:\n",
    "        if ('BraTS19' in dir):\n",
    "            lgg_paths.append(dir)\n",
    "\n",
    "random_lgg = np.random.choice(lgg_paths, int(len(lgg_paths)*.1))\n",
    "lgg_paths = random_lgg\n",
    "import shutil, random, os\n",
    "\n",
    "#reduce LGG\n",
    "#https://stackoverflow.com/questions/15034151/copy-directory-contents-into-a-directory-with-python\n",
    "import shutil, random, os\n",
    "import os, shutil\n",
    "from distutils.dir_util import copy_tree\n",
    "dirLGG = DATA_LGG\n",
    "LGG_Names = random.sample(os.listdir(dirLGG), 7)\n",
    "for fname in LGG_Names:\n",
    "    srcpath = os.path.join(dirLGG, fname)\n",
    "    path = os.path.join(reduced_Data_LGG, fname)\n",
    "    os.mkdir(path)\n",
    "    copy_tree(srcpath, path)\n",
    "    \n"
   ]
  },
  {
   "cell_type": "code",
   "execution_count": 8,
   "metadata": {},
   "outputs": [
    {
     "ename": "FileExistsError",
     "evalue": "[Errno 17] File exists: '/Users/nathansimms/Documents/CMPT340/BratsData/2019Simple/MICCAI_BraTS_2019_Data_Training/reducedHGG/BraTS19_CBICA_AWI_1'",
     "output_type": "error",
     "traceback": [
      "\u001B[0;31m---------------------------------------------------------------------------\u001B[0m",
      "\u001B[0;31mFileExistsError\u001B[0m                           Traceback (most recent call last)",
      "\u001B[0;32m<ipython-input-8-c7c1eca5df33>\u001B[0m in \u001B[0;36m<module>\u001B[0;34m\u001B[0m\n\u001B[1;32m      5\u001B[0m     \u001B[0msrcpath\u001B[0m \u001B[0;34m=\u001B[0m \u001B[0mos\u001B[0m\u001B[0;34m.\u001B[0m\u001B[0mpath\u001B[0m\u001B[0;34m.\u001B[0m\u001B[0mjoin\u001B[0m\u001B[0;34m(\u001B[0m\u001B[0mdirHGG\u001B[0m\u001B[0;34m,\u001B[0m \u001B[0mfname\u001B[0m\u001B[0;34m)\u001B[0m\u001B[0;34m\u001B[0m\u001B[0;34m\u001B[0m\u001B[0m\n\u001B[1;32m      6\u001B[0m     \u001B[0mpath\u001B[0m \u001B[0;34m=\u001B[0m \u001B[0mos\u001B[0m\u001B[0;34m.\u001B[0m\u001B[0mpath\u001B[0m\u001B[0;34m.\u001B[0m\u001B[0mjoin\u001B[0m\u001B[0;34m(\u001B[0m\u001B[0mreduced_Data_HGG\u001B[0m\u001B[0;34m,\u001B[0m \u001B[0mfname\u001B[0m\u001B[0;34m)\u001B[0m\u001B[0;34m\u001B[0m\u001B[0;34m\u001B[0m\u001B[0m\n\u001B[0;32m----> 7\u001B[0;31m     \u001B[0mos\u001B[0m\u001B[0;34m.\u001B[0m\u001B[0mmkdir\u001B[0m\u001B[0;34m(\u001B[0m\u001B[0mpath\u001B[0m\u001B[0;34m)\u001B[0m\u001B[0;34m\u001B[0m\u001B[0;34m\u001B[0m\u001B[0m\n\u001B[0m\u001B[1;32m      8\u001B[0m     \u001B[0mcopy_tree\u001B[0m\u001B[0;34m(\u001B[0m\u001B[0msrcpath\u001B[0m\u001B[0;34m,\u001B[0m \u001B[0mpath\u001B[0m\u001B[0;34m)\u001B[0m\u001B[0;34m\u001B[0m\u001B[0;34m\u001B[0m\u001B[0m\n\u001B[1;32m      9\u001B[0m \u001B[0;34m\u001B[0m\u001B[0m\n",
      "\u001B[0;31mFileExistsError\u001B[0m: [Errno 17] File exists: '/Users/nathansimms/Documents/CMPT340/BratsData/2019Simple/MICCAI_BraTS_2019_Data_Training/reducedHGG/BraTS19_CBICA_AWI_1'"
     ]
    }
   ],
   "source": [
    "## reduce HGG data\n",
    "dirHGG = DATA_HGG\n",
    "HGG_Names = random.sample(os.listdir(dirHGG), 25)\n",
    "for fname in HGG_Names:\n",
    "    srcpath = os.path.join(dirHGG, fname)\n",
    "    path = os.path.join(reduced_Data_HGG, fname)\n",
    "    os.mkdir(path)\n",
    "    copy_tree(srcpath, path)"
   ]
  },
  {
   "cell_type": "code",
   "execution_count": 9,
   "metadata": {
    "pycharm": {
     "name": "#%%\n"
    }
   },
   "outputs": [],
   "source": [
    "# reduce validation data\n",
    "Val_Names = random.sample(os.listdir(VALIDATION_DATA), 12)\n",
    "for fname in Val_Names:\n",
    "    srcpath = os.path.join(VALIDATION_DATA, fname)\n",
    "    path = os.path.join(reduced_Val, fname)\n",
    "    os.mkdir(path)\n",
    "    copy_tree(srcpath, path)"
   ]
  },
  {
   "cell_type": "markdown",
   "metadata": {},
   "source": [
    "### Run n4corr filter on T1 and T1CE images\n",
    "Time on Train data\n",
    "```1\n",
    "CPU times: user 2d 11h 24min 48s, sys: 47min 15s, total: 2d 12h 12min 3s\n",
    "Wall time: 16h 43min 29s\n",
    "```"
   ]
  },
  {
   "cell_type": "code",
   "execution_count": 10,
   "metadata": {},
   "outputs": [
    {
     "name": "stdout",
     "output_type": "stream",
     "text": [
      "/Users/nathansimms/Documents/CMPT340/BratsData/2019Simple/MICCAI_BraTS_2019_Data_Training/reducedLGG/BraTS19_TCIA10_202_1/BraTS19_TCIA10_202_1_t1.nii.gz /Users/nathansimms/Documents/CMPT340/BratsData/2019Simple/MICCAI_BraTS_2019_Data_Training/reducedLGG/BraTS19_TCIA10_202_1/BraTS19_TCIA10_202_1_t1_nb4.nii.gz\n",
      "/Users/nathansimms/Documents/CMPT340/BratsData/2019Simple/MICCAI_BraTS_2019_Data_Training/reducedLGG/BraTS19_TCIA10_202_1/BraTS19_TCIA10_202_1_t1ce_nb4.nii.gz /Users/nathansimms/Documents/CMPT340/BratsData/2019Simple/MICCAI_BraTS_2019_Data_Training/reducedLGG/BraTS19_TCIA10_202_1/BraTS19_TCIA10_202_1_t1cet1ce_nb4.nii.gz\n"
     ]
    },
    {
     "ename": "KeyboardInterrupt",
     "evalue": "",
     "output_type": "error",
     "traceback": [
      "\u001B[0;31m---------------------------------------------------------------------------\u001B[0m",
      "\u001B[0;31mKeyboardInterrupt\u001B[0m                         Traceback (most recent call last)",
      "\u001B[0;32m<timed exec>\u001B[0m in \u001B[0;36m<module>\u001B[0;34m\u001B[0m\n",
      "\u001B[0;32m<ipython-input-5-0849f0edcb05>\u001B[0m in \u001B[0;36mn4cor\u001B[0;34m(in_img, out_img)\u001B[0m\n\u001B[1;32m      8\u001B[0m     \u001B[0mnumberFilltingLevels\u001B[0m \u001B[0;34m=\u001B[0m \u001B[0;36m4\u001B[0m\u001B[0;34m\u001B[0m\u001B[0;34m\u001B[0m\u001B[0m\n\u001B[1;32m      9\u001B[0m \u001B[0;34m\u001B[0m\u001B[0m\n\u001B[0;32m---> 10\u001B[0;31m     \u001B[0moutput\u001B[0m \u001B[0;34m=\u001B[0m \u001B[0mcorrector\u001B[0m\u001B[0;34m.\u001B[0m\u001B[0mExecute\u001B[0m\u001B[0;34m(\u001B[0m \u001B[0minputImage\u001B[0m\u001B[0;34m,\u001B[0m \u001B[0mmaskImage\u001B[0m \u001B[0;34m)\u001B[0m\u001B[0;34m\u001B[0m\u001B[0;34m\u001B[0m\u001B[0m\n\u001B[0m\u001B[1;32m     11\u001B[0m     \u001B[0msitk\u001B[0m\u001B[0;34m.\u001B[0m\u001B[0mWriteImage\u001B[0m\u001B[0;34m(\u001B[0m \u001B[0moutput\u001B[0m\u001B[0;34m,\u001B[0m \u001B[0mout_img\u001B[0m \u001B[0;34m)\u001B[0m\u001B[0;34m\u001B[0m\u001B[0;34m\u001B[0m\u001B[0m\n\u001B[1;32m     12\u001B[0m \u001B[0;34m\u001B[0m\u001B[0m\n",
      "\u001B[0;32m~/PycharmProjects/pythonProject/venv/lib/python3.8/site-packages/SimpleITK/SimpleITK.py\u001B[0m in \u001B[0;36mExecute\u001B[0;34m(self, *args)\u001B[0m\n\u001B[1;32m  18296\u001B[0m         \u001B[0mExecute\u001B[0m\u001B[0;34m(\u001B[0m\u001B[0mN4BiasFieldCorrectionImageFilter\u001B[0m \u001B[0mself\u001B[0m\u001B[0;34m,\u001B[0m \u001B[0mImage\u001B[0m \u001B[0mimage\u001B[0m\u001B[0;34m)\u001B[0m \u001B[0;34m->\u001B[0m \u001B[0mImage\u001B[0m\u001B[0;34m\u001B[0m\u001B[0;34m\u001B[0m\u001B[0m\n\u001B[1;32m  18297\u001B[0m         \"\"\"\n\u001B[0;32m> 18298\u001B[0;31m         \u001B[0;32mreturn\u001B[0m \u001B[0m_SimpleITK\u001B[0m\u001B[0;34m.\u001B[0m\u001B[0mN4BiasFieldCorrectionImageFilter_Execute\u001B[0m\u001B[0;34m(\u001B[0m\u001B[0mself\u001B[0m\u001B[0;34m,\u001B[0m \u001B[0;34m*\u001B[0m\u001B[0margs\u001B[0m\u001B[0;34m)\u001B[0m\u001B[0;34m\u001B[0m\u001B[0;34m\u001B[0m\u001B[0m\n\u001B[0m\u001B[1;32m  18299\u001B[0m \u001B[0;34m\u001B[0m\u001B[0m\n\u001B[1;32m  18300\u001B[0m \u001B[0;31m# Register N4BiasFieldCorrectionImageFilter in _SimpleITK:\u001B[0m\u001B[0;34m\u001B[0m\u001B[0;34m\u001B[0m\u001B[0;34m\u001B[0m\u001B[0m\n",
      "\u001B[0;31mKeyboardInterrupt\u001B[0m: "
     ]
    }
   ],
   "source": [
    "%%time\n",
    "# run n4 on training\n",
    "for dirpath, dirnames, files in os.walk(reduced_Data_LGG):\n",
    "\n",
    "    for file in files:\n",
    "        if ('_t1.' in file):\n",
    "            in_img = os.path.join(dirpath, file)\n",
    "            out_img = os.path.join(dirpath, file[:-9]+ 't1_nb4.nii.gz')\n",
    "            print(in_img, out_img)\n",
    "            if (not os.path.isfile(out_img)):\n",
    "                n4cor(in_img, out_img)\n",
    "        \n",
    "        if (T1CE in file):\n",
    "            in_img = os.path.join(dirpath, file)\n",
    "            out_img = os.path.join(dirpath,file[:-11]+ 't1ce_nb4.nii.gz')\n",
    "            print(in_img, out_img)\n",
    "            if (not os.path.isfile(out_img)):\n",
    "                n4cor(in_img, out_img)\n",
    "\n",
    "for dirpath, dirnames, files in os.walk(reduced_Data_HGG):\n",
    "\n",
    "    for file in files:\n",
    "        if ('_t1.' in file):\n",
    "            in_img = os.path.join(dirpath, file)\n",
    "            out_img = os.path.join(dirpath, file[:-9]+ 't1_nb4.nii.gz')\n",
    "            print(in_img, out_img)\n",
    "            if (not os.path.isfile(out_img)):\n",
    "                n4cor(in_img, out_img)\n",
    "\n",
    "        if (T1CE in file):\n",
    "            in_img = os.path.join(dirpath, file)\n",
    "            out_img = os.path.join(dirpath,file[:-11]+ 't1ce_nb4.nii.gz')\n",
    "            print(in_img, out_img)\n",
    "            if (not os.path.isfile(out_img)):\n",
    "                n4cor(in_img, out_img)"
   ]
  },
  {
   "cell_type": "code",
   "execution_count": 11,
   "metadata": {},
   "outputs": [
    {
     "name": "stdout",
     "output_type": "stream",
     "text": [
      "/Users/nathansimms/Documents/CMPT340/BratsData/2019Simple/reducedVal/testReduce/BraTS19_UAB_3455_1/BraTS19_UAB_3455_1_t1.nii.gz /Users/nathansimms/Documents/CMPT340/BratsData/2019Simple/reducedVal/testReduce/BraTS19_UAB_3455_1/BraTS19_UAB_3455_1_t1_nb4.nii.gz\n"
     ]
    },
    {
     "ename": "KeyboardInterrupt",
     "evalue": "",
     "output_type": "error",
     "traceback": [
      "\u001B[0;31m---------------------------------------------------------------------------\u001B[0m",
      "\u001B[0;31mKeyboardInterrupt\u001B[0m                         Traceback (most recent call last)",
      "\u001B[0;32m<timed exec>\u001B[0m in \u001B[0;36m<module>\u001B[0;34m\u001B[0m\n",
      "\u001B[0;32m<ipython-input-5-0849f0edcb05>\u001B[0m in \u001B[0;36mn4cor\u001B[0;34m(in_img, out_img)\u001B[0m\n\u001B[1;32m      8\u001B[0m     \u001B[0mnumberFilltingLevels\u001B[0m \u001B[0;34m=\u001B[0m \u001B[0;36m4\u001B[0m\u001B[0;34m\u001B[0m\u001B[0;34m\u001B[0m\u001B[0m\n\u001B[1;32m      9\u001B[0m \u001B[0;34m\u001B[0m\u001B[0m\n\u001B[0;32m---> 10\u001B[0;31m     \u001B[0moutput\u001B[0m \u001B[0;34m=\u001B[0m \u001B[0mcorrector\u001B[0m\u001B[0;34m.\u001B[0m\u001B[0mExecute\u001B[0m\u001B[0;34m(\u001B[0m \u001B[0minputImage\u001B[0m\u001B[0;34m,\u001B[0m \u001B[0mmaskImage\u001B[0m \u001B[0;34m)\u001B[0m\u001B[0;34m\u001B[0m\u001B[0;34m\u001B[0m\u001B[0m\n\u001B[0m\u001B[1;32m     11\u001B[0m     \u001B[0msitk\u001B[0m\u001B[0;34m.\u001B[0m\u001B[0mWriteImage\u001B[0m\u001B[0;34m(\u001B[0m \u001B[0moutput\u001B[0m\u001B[0;34m,\u001B[0m \u001B[0mout_img\u001B[0m \u001B[0;34m)\u001B[0m\u001B[0;34m\u001B[0m\u001B[0;34m\u001B[0m\u001B[0m\n\u001B[1;32m     12\u001B[0m \u001B[0;34m\u001B[0m\u001B[0m\n",
      "\u001B[0;32m~/PycharmProjects/pythonProject/venv/lib/python3.8/site-packages/SimpleITK/SimpleITK.py\u001B[0m in \u001B[0;36mExecute\u001B[0;34m(self, *args)\u001B[0m\n\u001B[1;32m  18296\u001B[0m         \u001B[0mExecute\u001B[0m\u001B[0;34m(\u001B[0m\u001B[0mN4BiasFieldCorrectionImageFilter\u001B[0m \u001B[0mself\u001B[0m\u001B[0;34m,\u001B[0m \u001B[0mImage\u001B[0m \u001B[0mimage\u001B[0m\u001B[0;34m)\u001B[0m \u001B[0;34m->\u001B[0m \u001B[0mImage\u001B[0m\u001B[0;34m\u001B[0m\u001B[0;34m\u001B[0m\u001B[0m\n\u001B[1;32m  18297\u001B[0m         \"\"\"\n\u001B[0;32m> 18298\u001B[0;31m         \u001B[0;32mreturn\u001B[0m \u001B[0m_SimpleITK\u001B[0m\u001B[0;34m.\u001B[0m\u001B[0mN4BiasFieldCorrectionImageFilter_Execute\u001B[0m\u001B[0;34m(\u001B[0m\u001B[0mself\u001B[0m\u001B[0;34m,\u001B[0m \u001B[0;34m*\u001B[0m\u001B[0margs\u001B[0m\u001B[0;34m)\u001B[0m\u001B[0;34m\u001B[0m\u001B[0;34m\u001B[0m\u001B[0m\n\u001B[0m\u001B[1;32m  18299\u001B[0m \u001B[0;34m\u001B[0m\u001B[0m\n\u001B[1;32m  18300\u001B[0m \u001B[0;31m# Register N4BiasFieldCorrectionImageFilter in _SimpleITK:\u001B[0m\u001B[0;34m\u001B[0m\u001B[0;34m\u001B[0m\u001B[0;34m\u001B[0m\u001B[0m\n",
      "\u001B[0;31mKeyboardInterrupt\u001B[0m: "
     ]
    }
   ],
   "source": [
    "%%time\n",
    "# run n4 on validation data\n",
    "for dirpath, dirnames, files in os.walk(reduced_Val):\n",
    "\n",
    "    for file in files:\n",
    "        if ('_t1.' in file):\n",
    "            in_img = os.path.join(dirpath, file)\n",
    "            out_img = os.path.join(dirpath, file[:-9]+ 't1_nb4.nii.gz')\n",
    "            if (not os.path.isfile(out_img)):\n",
    "                print(in_img, out_img)\n",
    "                n4cor(in_img, out_img)\n",
    "        \n",
    "        if (T1CE in file):\n",
    "            in_img = os.path.join(dirpath, file)\n",
    "            out_img = os.path.join(dirpath,file[:-11]+ 't1ce_nb4.nii.gz')\n",
    "            if (not os.path.isfile(out_img)):\n",
    "                print(in_img, out_img)\n",
    "                n4cor(in_img, out_img)"
   ]
  },
  {
   "cell_type": "code",
   "execution_count": null,
   "metadata": {
    "pycharm": {
     "name": "#%%\n"
    }
   },
   "outputs": [],
   "source": [
    "\n",
    "\n",
    "\n",
    "\n",
    "\n",
    "\n",
    "\n",
    "\n",
    "\n",
    "\n",
    "\n",
    "\n",
    "\n",
    "\n"
   ]
  }
 ],
 "metadata": {
  "kernelspec": {
   "display_name": "Python 3",
   "language": "python",
   "name": "python3"
  },
  "language_info": {
   "codemirror_mode": {
    "name": "ipython",
    "version": 3
   },
   "file_extension": ".py",
   "mimetype": "text/x-python",
   "name": "python",
   "nbconvert_exporter": "python",
   "pygments_lexer": "ipython3",
   "version": "3.7.10"
  }
 },
 "nbformat": 4,
 "nbformat_minor": 2
}